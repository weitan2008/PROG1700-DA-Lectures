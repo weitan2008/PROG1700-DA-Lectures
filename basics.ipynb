{
 "cells": [
  {
   "cell_type": "code",
   "execution_count": 1,
   "id": "286f1d01-6cd3-4869-93d0-b5579c52727d",
   "metadata": {},
   "outputs": [
    {
     "name": "stdout",
     "output_type": "stream",
     "text": [
      "Hello World!\n"
     ]
    }
   ],
   "source": [
    "print(\"Hello World!\")"
   ]
  },
  {
   "cell_type": "code",
   "execution_count": 2,
   "id": "75813f3c-4c92-446b-a778-41176dc9326a",
   "metadata": {},
   "outputs": [],
   "source": [
    "# comment"
   ]
  },
  {
   "cell_type": "code",
   "execution_count": 3,
   "id": "25260dd2-3339-43d2-b51a-bb8a3443e1eb",
   "metadata": {},
   "outputs": [
    {
     "data": {
      "text/plain": [
       "'\\n    block\\n'"
      ]
     },
     "execution_count": 3,
     "metadata": {},
     "output_type": "execute_result"
    }
   ],
   "source": [
    "## also coment\n",
    "'''\n",
    "    block\n",
    "'''"
   ]
  },
  {
   "cell_type": "code",
   "execution_count": 6,
   "id": "c01dc8ff-f83c-43b8-8311-1bdd8e61f82c",
   "metadata": {},
   "outputs": [
    {
     "name": "stdout",
     "output_type": "stream",
     "text": [
      "Hello World 123\n",
      "123 Somewhere St Nova Scotia 456\n"
     ]
    }
   ],
   "source": [
    "print(\"Hello World\", 123)\n",
    "print(123, \"Somewhere St\", \"Nova Scotia\", 456)"
   ]
  },
  {
   "cell_type": "code",
   "execution_count": 7,
   "id": "a9a16b51-cff3-45e5-a9c3-cc998c2ea58e",
   "metadata": {},
   "outputs": [
    {
     "name": "stdout",
     "output_type": "stream",
     "text": [
      "Hello \n",
      "World\n"
     ]
    }
   ],
   "source": [
    "print(\"Hello \\nWorld\")"
   ]
  },
  {
   "cell_type": "code",
   "execution_count": 18,
   "id": "954617be-1fe8-43fc-9679-2d769d3b4cc2",
   "metadata": {},
   "outputs": [
    {
     "name": "stdout",
     "output_type": "stream",
     "text": [
      "Sale Price: 12345\n",
      "Sale Price:12345\n"
     ]
    }
   ],
   "source": [
    "print(\"Sale Price:\", 12345)\n",
    "print(\"Sale Price:\", end=\"\")\n",
    "print(12345)"
   ]
  },
  {
   "cell_type": "code",
   "execution_count": 15,
   "id": "945c5966-831c-47e0-a9af-be8964a6cdd5",
   "metadata": {},
   "outputs": [
    {
     "name": "stdout",
     "output_type": "stream",
     "text": [
      "Sale Price:11111\n",
      "22222\n"
     ]
    }
   ],
   "source": [
    "print(\"Sale Price:\", end=\"\")\n",
    "print(11111)\n",
    "print(22222)"
   ]
  },
  {
   "cell_type": "code",
   "execution_count": 16,
   "id": "dbb194b2-26f9-425d-862a-824bb6ed1d83",
   "metadata": {},
   "outputs": [
    {
     "name": "stdout",
     "output_type": "stream",
     "text": [
      "Sale Price:\n",
      "11111\n"
     ]
    }
   ],
   "source": [
    "print(\"Sale Price:\")\n",
    "print(11111)"
   ]
  },
  {
   "cell_type": "code",
   "execution_count": 26,
   "id": "4b50b7bf-9501-4f11-9fc7-72325bd15252",
   "metadata": {},
   "outputs": [
    {
     "name": "stdin",
     "output_type": "stream",
     "text": [
      "Enter a number: 123\n"
     ]
    },
    {
     "name": "stdout",
     "output_type": "stream",
     "text": [
      "123\n",
      "<class 'str'>\n"
     ]
    }
   ],
   "source": [
    "user_input = input(\"Enter a number:\")\n",
    "print(user_input)\n",
    "print(type(user_input))"
   ]
  },
  {
   "cell_type": "code",
   "execution_count": 28,
   "id": "a25ed0ac-0cdf-4caf-a5fc-bbe6550081c9",
   "metadata": {},
   "outputs": [
    {
     "name": "stdout",
     "output_type": "stream",
     "text": [
      "September 19 2025\n",
      "September 19, 2025\n"
     ]
    }
   ],
   "source": [
    "# Create a script that creates three variables to hold the current day, month and year.\n",
    "# Display the current date using those varibles nicely formatted.\n",
    "day = 19\n",
    "month = \"September\"\n",
    "year = \"2025\"\n",
    "print(month, day, year)\n",
    "print(f\"{month} {day}, {year}\")"
   ]
  },
  {
   "cell_type": "code",
   "execution_count": 30,
   "id": "ea6880b0-2aea-435f-9eaf-34618812f411",
   "metadata": {},
   "outputs": [
    {
     "name": "stdin",
     "output_type": "stream",
     "text": [
      "Enter you first name: wei\n",
      "Enter you last name: tan\n"
     ]
    },
    {
     "name": "stdout",
     "output_type": "stream",
     "text": [
      "wei.tan@nscc.ca\n"
     ]
    }
   ],
   "source": [
    "first_name = input(\"Enter your first name:\")\n",
    "last_name = input(\"Enter your last name:\")\n",
    "print(f\"{first_name}.{last_name}@nscc.ca\")"
   ]
  },
  {
   "cell_type": "code",
   "execution_count": null,
   "id": "050d230d-09ed-41a7-b78a-221d01d336dd",
   "metadata": {},
   "outputs": [],
   "source": []
  }
 ],
 "metadata": {
  "kernelspec": {
   "display_name": "Python 3 (ipykernel)",
   "language": "python",
   "name": "python3"
  },
  "language_info": {
   "codemirror_mode": {
    "name": "ipython",
    "version": 3
   },
   "file_extension": ".py",
   "mimetype": "text/x-python",
   "name": "python",
   "nbconvert_exporter": "python",
   "pygments_lexer": "ipython3",
   "version": "3.13.7"
  }
 },
 "nbformat": 4,
 "nbformat_minor": 5
}
