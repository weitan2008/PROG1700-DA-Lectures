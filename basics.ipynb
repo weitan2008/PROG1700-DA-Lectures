{
 "cells": [
  {
   "cell_type": "code",
   "execution_count": 1,
   "id": "286f1d01-6cd3-4869-93d0-b5579c52727d",
   "metadata": {},
   "outputs": [
    {
     "name": "stdout",
     "output_type": "stream",
     "text": [
      "Hello World!\n"
     ]
    }
   ],
   "source": [
    "print(\"Hello World!\")"
   ]
  },
  {
   "cell_type": "code",
   "execution_count": 2,
   "id": "75813f3c-4c92-446b-a778-41176dc9326a",
   "metadata": {},
   "outputs": [],
   "source": [
    "# comment"
   ]
  },
  {
   "cell_type": "code",
   "execution_count": 3,
   "id": "25260dd2-3339-43d2-b51a-bb8a3443e1eb",
   "metadata": {},
   "outputs": [
    {
     "data": {
      "text/plain": [
       "'\\n    block\\n'"
      ]
     },
     "execution_count": 3,
     "metadata": {},
     "output_type": "execute_result"
    }
   ],
   "source": [
    "## also coment\n",
    "'''\n",
    "    block\n",
    "'''"
   ]
  },
  {
   "cell_type": "code",
   "execution_count": 6,
   "id": "c01dc8ff-f83c-43b8-8311-1bdd8e61f82c",
   "metadata": {},
   "outputs": [
    {
     "name": "stdout",
     "output_type": "stream",
     "text": [
      "Hello World 123\n",
      "123 Somewhere St Nova Scotia 456\n"
     ]
    }
   ],
   "source": [
    "print(\"Hello World\", 123)\n",
    "print(123, \"Somewhere St\", \"Nova Scotia\", 456)"
   ]
  },
  {
   "cell_type": "code",
   "execution_count": 7,
   "id": "a9a16b51-cff3-45e5-a9c3-cc998c2ea58e",
   "metadata": {},
   "outputs": [
    {
     "name": "stdout",
     "output_type": "stream",
     "text": [
      "Hello \n",
      "World\n"
     ]
    }
   ],
   "source": [
    "print(\"Hello \\nWorld\")"
   ]
  },
  {
   "cell_type": "code",
   "execution_count": 18,
   "id": "954617be-1fe8-43fc-9679-2d769d3b4cc2",
   "metadata": {},
   "outputs": [
    {
     "name": "stdout",
     "output_type": "stream",
     "text": [
      "Sale Price: 12345\n",
      "Sale Price:12345\n"
     ]
    }
   ],
   "source": [
    "print(\"Sale Price:\", 12345)\n",
    "print(\"Sale Price:\", end=\"\")\n",
    "print(12345)"
   ]
  },
  {
   "cell_type": "code",
   "execution_count": 2,
   "id": "945c5966-831c-47e0-a9af-be8964a6cdd5",
   "metadata": {},
   "outputs": [
    {
     "name": "stdout",
     "output_type": "stream",
     "text": [
      "Sale Price:11111\n",
      "22222\n"
     ]
    }
   ],
   "source": [
    "print(\"Sale Price:\", end=\"\")\n",
    "print(11111)\n",
    "print(22222)"
   ]
  },
  {
   "cell_type": "code",
   "execution_count": 16,
   "id": "dbb194b2-26f9-425d-862a-824bb6ed1d83",
   "metadata": {},
   "outputs": [
    {
     "name": "stdout",
     "output_type": "stream",
     "text": [
      "Sale Price:\n",
      "11111\n"
     ]
    }
   ],
   "source": [
    "print(\"Sale Price:\")\n",
    "print(11111)"
   ]
  },
  {
   "cell_type": "code",
   "execution_count": 26,
   "id": "4b50b7bf-9501-4f11-9fc7-72325bd15252",
   "metadata": {},
   "outputs": [
    {
     "name": "stdin",
     "output_type": "stream",
     "text": [
      "Enter a number: 123\n"
     ]
    },
    {
     "name": "stdout",
     "output_type": "stream",
     "text": [
      "123\n",
      "<class 'str'>\n"
     ]
    }
   ],
   "source": [
    "user_input = input(\"Enter a number:\")\n",
    "print(user_input)\n",
    "print(type(user_input))"
   ]
  },
  {
   "cell_type": "code",
   "execution_count": 28,
   "id": "a25ed0ac-0cdf-4caf-a5fc-bbe6550081c9",
   "metadata": {},
   "outputs": [
    {
     "name": "stdout",
     "output_type": "stream",
     "text": [
      "September 19 2025\n",
      "September 19, 2025\n"
     ]
    }
   ],
   "source": [
    "# Create a script that creates three variables to hold the current day, month and year.\n",
    "# Display the current date using those varibles nicely formatted.\n",
    "day = 19\n",
    "month = \"September\"\n",
    "year = \"2025\"\n",
    "print(month, day, year)\n",
    "print(f\"{month} {day}, {year}\")"
   ]
  },
  {
   "cell_type": "code",
   "execution_count": 30,
   "id": "ea6880b0-2aea-435f-9eaf-34618812f411",
   "metadata": {},
   "outputs": [
    {
     "name": "stdin",
     "output_type": "stream",
     "text": [
      "Enter you first name: wei\n",
      "Enter you last name: tan\n"
     ]
    },
    {
     "name": "stdout",
     "output_type": "stream",
     "text": [
      "wei.tan@nscc.ca\n"
     ]
    }
   ],
   "source": [
    "first_name = input(\"Enter your first name:\")\n",
    "last_name = input(\"Enter your last name:\")\n",
    "print(f\"{first_name}.{last_name}@nscc.ca\")"
   ]
  },
  {
   "cell_type": "code",
   "execution_count": 5,
   "id": "050d230d-09ed-41a7-b78a-221d01d336dd",
   "metadata": {},
   "outputs": [
    {
     "name": "stdout",
     "output_type": "stream",
     "text": [
      "Hello World!\n"
     ]
    }
   ],
   "source": [
    "# concatenation of strings\n",
    "\"concatenate\" + \"strings\"\n",
    "\n",
    "text = \"Hello \" + \"World\"\n",
    "text += \"!\"\n",
    "print(text)"
   ]
  },
  {
   "cell_type": "code",
   "execution_count": 10,
   "id": "f7ce7dfd-9135-4b80-8cf8-8e288f780f4b",
   "metadata": {},
   "outputs": [
    {
     "name": "stdout",
     "output_type": "stream",
     "text": [
      "5685 Leeds St\n"
     ]
    }
   ],
   "source": [
    "# conbine strings and numbers\n",
    "# address = str(5685) + \" Leeds St\"\n",
    "address = f\"{5685} Leeds St\"\n",
    "print(address)"
   ]
  },
  {
   "cell_type": "code",
   "execution_count": 11,
   "id": "95cef699-2000-4756-bfb3-3f1942c736ab",
   "metadata": {},
   "outputs": [
    {
     "name": "stdout",
     "output_type": "stream",
     "text": [
      "Price: 123.45\n"
     ]
    }
   ],
   "source": [
    "# combine strings and decimals\n",
    "price_amount = 123.45\n",
    "price = \"Price: \" + str(price_amount)\n",
    "print(price)"
   ]
  },
  {
   "cell_type": "code",
   "execution_count": 15,
   "id": "e6d2b2f4-68af-47bb-87b9-eaa60c97d089",
   "metadata": {},
   "outputs": [
    {
     "name": "stdout",
     "output_type": "stream",
     "text": [
      "Sum = 3\n"
     ]
    }
   ],
   "source": [
    "# combine strings and calculations\n",
    "#answer = \"Sum = \" + str(1 + 2)\n",
    "answer = f\"Sum = {1 + 2}\"\n",
    "print(answer)"
   ]
  },
  {
   "cell_type": "code",
   "execution_count": 23,
   "id": "49518492-3ad3-4578-b00a-a6f0b7b0191a",
   "metadata": {},
   "outputs": [
    {
     "data": {
      "text/plain": [
       "'Hello Hello World Hello World World'"
      ]
     },
     "execution_count": 23,
     "metadata": {},
     "output_type": "execute_result"
    }
   ],
   "source": [
    "# formatted strings\n",
    "\"{} {}\".format(\"Hello\", \"World\")\n",
    "\"{}, {}\".format(\"Hello\", \"World\")\n",
    "\"{0}, {1}\".format(\"Hello\", \"World\")\n",
    "\"{1}, {0}\".format(\"Hello\", \"World\")\n",
    "\"{} + {} = {}\".format(1, 2, 1+2)\n",
    "\"{0} {0} {1} {0} {1} {1}\".format(\"Hello\", \"World\")"
   ]
  },
  {
   "cell_type": "code",
   "execution_count": 26,
   "id": "7da2e198-3a17-4396-b1b1-fef06d4af50b",
   "metadata": {},
   "outputs": [
    {
     "data": {
      "text/plain": [
       "'lamb'"
      ]
     },
     "execution_count": 26,
     "metadata": {},
     "output_type": "execute_result"
    }
   ],
   "source": [
    "# substrings\n",
    "\"cat dog mouse\"[4:7] # range where [start:end+1]\n",
    "text = \"Mary had a little lamb\"\n",
    "text[18:22]"
   ]
  },
  {
   "cell_type": "code",
   "execution_count": 28,
   "id": "b32ccbbb-c8cd-43f0-80ab-7f8018aee9f1",
   "metadata": {},
   "outputs": [
    {
     "data": {
      "text/plain": [
       "'---'"
      ]
     },
     "execution_count": 28,
     "metadata": {},
     "output_type": "execute_result"
    }
   ],
   "source": [
    "# replication operator\n",
    "\"-\" * 3"
   ]
  },
  {
   "cell_type": "code",
   "execution_count": 35,
   "id": "415f5b20-d994-4b79-b156-616eee0915b3",
   "metadata": {},
   "outputs": [
    {
     "data": {
      "text/plain": [
       "bool"
      ]
     },
     "execution_count": 35,
     "metadata": {},
     "output_type": "execute_result"
    }
   ],
   "source": [
    "# more on data types\n",
    "# string: anything surrounded by double quotes\n",
    "type(\"Hello World\")\n",
    "\n",
    "# integer\n",
    "type(0)\n",
    "\n",
    "# float\n",
    "# - all decimal numbers can't be represented(e.g. pi)\n",
    "# - more represents an approximation than an actual number\n",
    "type(123.45)\n",
    "\n",
    "# boolean\n",
    "type(False)\n",
    "type(True)"
   ]
  },
  {
   "cell_type": "code",
   "execution_count": 50,
   "id": "c48d66e7-17e5-46be-b8e3-5cba729610ed",
   "metadata": {},
   "outputs": [
    {
     "data": {
      "text/plain": [
       "False"
      ]
     },
     "execution_count": 50,
     "metadata": {},
     "output_type": "execute_result"
    }
   ],
   "source": [
    "# change data types\n",
    "int(\"123\") # 123\n",
    "int(1.23) # 1 \n",
    "\n",
    "str(\"123.456\") # '123.456'\n",
    "str(123.456) # '123.456'\n",
    "str(False) # 'False'\n",
    "\n",
    "float(\"123.456\") # 123.456\n",
    "float(123) # 123.0\n",
    "\n",
    "bool(\"Hello\") # True\n",
    "bool(\"\") # False\n",
    "bool(0) # False\n",
    "bool(0.0) # False"
   ]
  },
  {
   "cell_type": "code",
   "execution_count": 52,
   "id": "452ae8a7-0b12-43e8-be4b-d3694f9aca60",
   "metadata": {},
   "outputs": [
    {
     "name": "stdin",
     "output_type": "stream",
     "text": [
      "Enter a number: 123\n",
      "Enter a number: 456\n"
     ]
    },
    {
     "data": {
      "text/plain": [
       "int"
      ]
     },
     "execution_count": 52,
     "metadata": {},
     "output_type": "execute_result"
    }
   ],
   "source": [
    "# getting input from the user of a particular data type\n",
    "user_input = input(\"Enter a number:\")\n",
    "type(user_input) # str\n",
    "\n",
    "user_number = int(input(\"Enter a number:\"))\n",
    "type(user_number) # int"
   ]
  },
  {
   "cell_type": "code",
   "execution_count": 66,
   "id": "2669848c-407f-4b10-8863-ad23a509bae1",
   "metadata": {},
   "outputs": [
    {
     "data": {
      "text/plain": [
       "2"
      ]
     },
     "execution_count": 66,
     "metadata": {},
     "output_type": "execute_result"
    }
   ],
   "source": [
    "# math......\n",
    "10 / 4  # decimal division\n",
    "11 // 4 # 取整(2.75 不四舍五入) integer division\n",
    "#10 % 2 # 取余 modulus division (remainder of a long division)\n",
    "#5 ** 3 # exponents"
   ]
  },
  {
   "cell_type": "code",
   "execution_count": 63,
   "id": "8b5ecaa6-dec6-4bd1-9f99-1083a210c843",
   "metadata": {},
   "outputs": [
    {
     "data": {
      "text/plain": [
       "-6"
      ]
     },
     "execution_count": 63,
     "metadata": {},
     "output_type": "execute_result"
    }
   ],
   "source": [
    "# BEDMAS\n",
    "(1+2) * 3\n",
    "(1+2) * (3-5)"
   ]
  },
  {
   "cell_type": "code",
   "execution_count": 79,
   "id": "f1f05d12-6d73-4de9-9739-70c3fa59b378",
   "metadata": {},
   "outputs": [],
   "source": [
    "# assignment operators\n",
    "a = 1 + 2\n",
    "a += 3\n",
    "a -=1\n",
    "a *= 2\n",
    "a //= 3\n",
    "a %= 2\n",
    "a **= 3\n",
    "print(a)"
   ]
  },
  {
   "cell_type": "code",
   "execution_count": 93,
   "id": "3ab68fb4-e847-447f-8bec-be8c262ef795",
   "metadata": {},
   "outputs": [
    {
     "data": {
      "text/plain": [
       "1.54"
      ]
     },
     "execution_count": 93,
     "metadata": {},
     "output_type": "execute_result"
    }
   ],
   "source": [
    "# math library\n",
    "import math\n",
    "math.pi\n",
    "math.sqrt(25)\n",
    "math.floor(1.5) # 1，向下取整\n",
    "math.ceil(1.1) # 2，向上取整\n",
    "round(1.536, 2) # 1.54，保留2位小数，四舍五入"
   ]
  },
  {
   "cell_type": "code",
   "execution_count": null,
   "id": "944ab83a-a1a7-4db8-88ea-d9f1790742c3",
   "metadata": {},
   "outputs": [],
   "source": []
  }
 ],
 "metadata": {
  "kernelspec": {
   "display_name": "Python 3 (ipykernel)",
   "language": "python",
   "name": "python3"
  },
  "language_info": {
   "codemirror_mode": {
    "name": "ipython",
    "version": 3
   },
   "file_extension": ".py",
   "mimetype": "text/x-python",
   "name": "python",
   "nbconvert_exporter": "python",
   "pygments_lexer": "ipython3",
   "version": "3.13.7"
  }
 },
 "nbformat": 4,
 "nbformat_minor": 5
}
