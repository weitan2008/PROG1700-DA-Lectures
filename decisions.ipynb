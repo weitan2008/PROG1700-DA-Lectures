{
 "cells": [
  {
   "cell_type": "code",
   "execution_count": 7,
   "id": "31451ae2-37a5-4a75-b5fe-c745a15c14e9",
   "metadata": {},
   "outputs": [
    {
     "data": {
      "text/plain": [
       "True"
      ]
     },
     "execution_count": 7,
     "metadata": {},
     "output_type": "execute_result"
    }
   ],
   "source": [
    "bool(1)\n",
    "bool(-1)\n",
    "bool(\"False\")\n",
    "bool(\"0\")\n",
    "bool(\"0.0\")\n",
    "bool(\"None\")"
   ]
  },
  {
   "cell_type": "code",
   "execution_count": 8,
   "id": "3d3101a0-669d-4b67-89c1-5ff80eb43bb2",
   "metadata": {},
   "outputs": [
    {
     "data": {
      "text/plain": [
       "False"
      ]
     },
     "execution_count": 8,
     "metadata": {},
     "output_type": "execute_result"
    }
   ],
   "source": [
    "bool(0)\n",
    "bool(0.0)\n",
    "bool(\"\")\n",
    "bool(None)"
   ]
  },
  {
   "cell_type": "code",
   "execution_count": 2,
   "id": "e8f57f7b-9cdb-4bba-8c6e-a1c91e0167fb",
   "metadata": {},
   "outputs": [
    {
     "data": {
      "text/plain": [
       "0"
      ]
     },
     "execution_count": 2,
     "metadata": {},
     "output_type": "execute_result"
    }
   ],
   "source": [
    "int(True)\n",
    "int(False)"
   ]
  },
  {
   "cell_type": "code",
   "execution_count": 3,
   "id": "41d0c2fc-b452-4695-b624-8b0a5591d48c",
   "metadata": {},
   "outputs": [
    {
     "data": {
      "text/plain": [
       "False"
      ]
     },
     "execution_count": 3,
     "metadata": {},
     "output_type": "execute_result"
    }
   ],
   "source": [
    "2 == True #把 True 转成 int，而不是把 2 转成 bool"
   ]
  },
  {
   "cell_type": "code",
   "execution_count": 10,
   "id": "277997bd-42a6-47d7-9e57-aee0037c72f9",
   "metadata": {},
   "outputs": [
    {
     "data": {
      "text/plain": [
       "True"
      ]
     },
     "execution_count": 10,
     "metadata": {},
     "output_type": "execute_result"
    }
   ],
   "source": [
    "1 == True"
   ]
  },
  {
   "cell_type": "code",
   "execution_count": null,
   "id": "e6dfb2bc-e0e3-404c-bf0e-b87ee663fdc5",
   "metadata": {},
   "outputs": [],
   "source": []
  },
  {
   "cell_type": "code",
   "execution_count": 5,
   "id": "a85a1a21-c586-470e-86f0-8f4ce243a0fd",
   "metadata": {},
   "outputs": [
    {
     "data": {
      "text/plain": [
       "False"
      ]
     },
     "execution_count": 5,
     "metadata": {},
     "output_type": "execute_result"
    }
   ],
   "source": [
    "\"abc\" == True"
   ]
  },
  {
   "cell_type": "code",
   "execution_count": 6,
   "id": "073b1ebd-e054-4b08-b0d8-71193fb8f711",
   "metadata": {},
   "outputs": [
    {
     "data": {
      "text/plain": [
       "False"
      ]
     },
     "execution_count": 6,
     "metadata": {},
     "output_type": "execute_result"
    }
   ],
   "source": [
    "\"\" == False"
   ]
  },
  {
   "cell_type": "code",
   "execution_count": 7,
   "id": "312b36fa-8a7e-412d-a3b8-b471e93267f8",
   "metadata": {},
   "outputs": [
    {
     "data": {
      "text/plain": [
       "False"
      ]
     },
     "execution_count": 7,
     "metadata": {},
     "output_type": "execute_result"
    }
   ],
   "source": [
    "\"abc\" == True"
   ]
  },
  {
   "cell_type": "code",
   "execution_count": 8,
   "id": "e6a25ec2-ded0-48a7-9ed9-6e2850d215cf",
   "metadata": {},
   "outputs": [
    {
     "data": {
      "text/plain": [
       "False"
      ]
     },
     "execution_count": 8,
     "metadata": {},
     "output_type": "execute_result"
    }
   ],
   "source": [
    "True == \"abc\""
   ]
  },
  {
   "cell_type": "code",
   "execution_count": 9,
   "id": "68090850-4462-4f49-9c93-60d01f1bda0d",
   "metadata": {},
   "outputs": [
    {
     "data": {
      "text/plain": [
       "False"
      ]
     },
     "execution_count": 9,
     "metadata": {},
     "output_type": "execute_result"
    }
   ],
   "source": [
    "False == \"\""
   ]
  },
  {
   "cell_type": "code",
   "execution_count": 14,
   "id": "558d943f-34e0-491d-98c3-d7d3e76ce7d5",
   "metadata": {},
   "outputs": [
    {
     "name": "stdout",
     "output_type": "stream",
     "text": [
      "1.0\n"
     ]
    }
   ],
   "source": [
    "answer = 1.\n",
    "print(answer)"
   ]
  },
  {
   "cell_type": "code",
   "execution_count": 15,
   "id": "19e2b2c0-0e5f-4c1b-9804-7ed3ef7697e4",
   "metadata": {},
   "outputs": [
    {
     "data": {
      "text/plain": [
       "'A'"
      ]
     },
     "execution_count": 15,
     "metadata": {},
     "output_type": "execute_result"
    }
   ],
   "source": [
    "chr(65)"
   ]
  },
  {
   "cell_type": "code",
   "execution_count": 16,
   "id": "f329dbb4-2687-418a-a992-c66e42a36579",
   "metadata": {},
   "outputs": [
    {
     "data": {
      "text/plain": [
       "65"
      ]
     },
     "execution_count": 16,
     "metadata": {},
     "output_type": "execute_result"
    }
   ],
   "source": [
    "ord(\"A\")"
   ]
  },
  {
   "cell_type": "code",
   "execution_count": 17,
   "id": "9885c295-d75c-4077-8957-a5f607f0e5ad",
   "metadata": {},
   "outputs": [
    {
     "data": {
      "text/plain": [
       "65"
      ]
     },
     "execution_count": 17,
     "metadata": {},
     "output_type": "execute_result"
    }
   ],
   "source": [
    "ord('A')"
   ]
  },
  {
   "cell_type": "code",
   "execution_count": 19,
   "id": "e78cc468-5049-427a-be46-6e4e7b36ea34",
   "metadata": {},
   "outputs": [
    {
     "data": {
      "text/plain": [
       "'\\x1f'"
      ]
     },
     "execution_count": 19,
     "metadata": {},
     "output_type": "execute_result"
    }
   ],
   "source": [
    "chr(31)"
   ]
  },
  {
   "cell_type": "code",
   "execution_count": 20,
   "id": "e8cfa2b6-999f-438f-8890-5e0290b5f421",
   "metadata": {},
   "outputs": [
    {
     "data": {
      "text/plain": [
       "' '"
      ]
     },
     "execution_count": 20,
     "metadata": {},
     "output_type": "execute_result"
    }
   ],
   "source": [
    "chr(32)"
   ]
  },
  {
   "cell_type": "code",
   "execution_count": null,
   "id": "46a9d0cf-258f-4a3f-ad9a-cf7d4ca9d67b",
   "metadata": {},
   "outputs": [],
   "source": []
  }
 ],
 "metadata": {
  "kernelspec": {
   "display_name": "Python 3.13 (py13)",
   "language": "python",
   "name": "py13"
  },
  "language_info": {
   "codemirror_mode": {
    "name": "ipython",
    "version": 3
   },
   "file_extension": ".py",
   "mimetype": "text/x-python",
   "name": "python",
   "nbconvert_exporter": "python",
   "pygments_lexer": "ipython3",
   "version": "3.13.7"
  }
 },
 "nbformat": 4,
 "nbformat_minor": 5
}
